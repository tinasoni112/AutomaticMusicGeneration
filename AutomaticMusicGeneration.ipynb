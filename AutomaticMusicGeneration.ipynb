{
  "nbformat": 4,
  "nbformat_minor": 0,
  "metadata": {
    "colab": {
      "name": "AutomaticMusicGeneration.ipynb",
      "provenance": [],
      "collapsed_sections": [],
      "authorship_tag": "ABX9TyPPdhYrPk/DcUh1vxsxvyJk",
      "include_colab_link": true
    },
    "kernelspec": {
      "name": "python3",
      "display_name": "Python 3"
    },
    "language_info": {
      "name": "python"
    }
  },
  "cells": [
    {
      "cell_type": "markdown",
      "metadata": {
        "id": "view-in-github",
        "colab_type": "text"
      },
      "source": [
        "<a href=\"https://colab.research.google.com/github/tinasoni112/AutomaticMusicGeneration/blob/main/AutomaticMusicGeneration.ipynb\" target=\"_parent\"><img src=\"https://colab.research.google.com/assets/colab-badge.svg\" alt=\"Open In Colab\"/></a>"
      ]
    },
    {
      "cell_type": "markdown",
      "source": [
        "# Elements of Music\n",
        "\n",
        "1. Note: The sound produced by a single key is called a note\n",
        "2. Chords: The sound produced by 2 or more keys simultaneously is called a chord. Generally, most chords contain at least 3 key sounds\n",
        "3. Octave: A repeated pattern is called an octave. Each octave contains 7 white and 5 black keys"
      ],
      "metadata": {
        "id": "_7q3nPjYd2b3"
      }
    },
    {
      "cell_type": "markdown",
      "source": [
        "# Approach 1: Using WaveNet"
      ],
      "metadata": {
        "id": "yniiF_Jheea4"
      }
    },
    {
      "cell_type": "markdown",
      "source": [
        "In WaveNet, given a sequence of samples, it tries to predict the next sample.\n",
        "\n",
        "## Input\n",
        "1. Raw audio wave refers to the representation of a wave in the time series domain.\n",
        "\n",
        "## Output\n",
        "Given the sequence of the amplitude values, WaveNet tries to predict the successive amplitude value."
      ],
      "metadata": {
        "id": "8u7UNrbgfHG-"
      }
    },
    {
      "cell_type": "markdown",
      "source": [
        "## Autoregressive model\n",
        "\n",
        "We can infer from the above that the output of every chunk depends only on the past information ( i.e. previous timesteps) but not on the future timesteps. Hence, this task is known as Autoregressive task and the model is known as an **Autoregressive model.**"
      ],
      "metadata": {
        "id": "2n18whMQgT8R"
      }
    },
    {
      "cell_type": "markdown",
      "source": [
        "**Music 21** is a Python library developed by MIT for understanding music data. MIDI is a standard format for storing music files. MIDI stands for Musical Instrument Digital Interface. MIDI files contain the instructions rather than the actual audio. Hence, it occupies very little memory. That’s why it is usually preferred while transferring files.\n",
        "\n",
        "The building blocks of WaveNet are Causal Dilated 1D Convolution layers."
      ],
      "metadata": {
        "id": "3JJt2YeEhWJK"
      }
    },
    {
      "cell_type": "code",
      "execution_count": 1,
      "metadata": {
        "id": "jTzeTn1WcUel"
      },
      "outputs": [],
      "source": [
        "from music21 import *"
      ]
    },
    {
      "cell_type": "code",
      "source": [
        ""
      ],
      "metadata": {
        "id": "4DDX4Cayg8xd"
      },
      "execution_count": null,
      "outputs": []
    }
  ]
}