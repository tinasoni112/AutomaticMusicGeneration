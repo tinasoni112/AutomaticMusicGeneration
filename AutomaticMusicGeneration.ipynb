{
  "nbformat": 4,
  "nbformat_minor": 0,
  "metadata": {
    "colab": {
      "name": "Untitled0.ipynb",
      "provenance": [],
      "authorship_tag": "ABX9TyMVts3CRAy0I60xwjk4bJxR",
      "include_colab_link": true
    },
    "kernelspec": {
      "name": "python3",
      "display_name": "Python 3"
    },
    "language_info": {
      "name": "python"
    }
  },
  "cells": [
    {
      "cell_type": "markdown",
      "metadata": {
        "id": "view-in-github",
        "colab_type": "text"
      },
      "source": [
        "<a href=\"https://colab.research.google.com/github/tinasoni112/AutomaticMusicGeneration/blob/main/AutomaticMusicGeneration.ipynb\" target=\"_parent\"><img src=\"https://colab.research.google.com/assets/colab-badge.svg\" alt=\"Open In Colab\"/></a>"
      ]
    },
    {
      "cell_type": "markdown",
      "source": [
        "# Elements of Music\n",
        "\n",
        "1. Note: The sound produced by a single key is called a note\n",
        "2. Chords: The sound produced by 2 or more keys simultaneously is called a chord. Generally, most chords contain at least 3 key sounds\n",
        "3. Octave: A repeated pattern is called an octave. Each octave contains 7 white and 5 black keys"
      ],
      "metadata": {
        "id": "_7q3nPjYd2b3"
      }
    },
    {
      "cell_type": "markdown",
      "source": [
        "# Approach 1: Using WaveNet"
      ],
      "metadata": {
        "id": "yniiF_Jheea4"
      }
    },
    {
      "cell_type": "markdown",
      "source": [
        "in WaveNet, given a sequence of samples, it tries to predict the next sample."
      ],
      "metadata": {
        "id": "8u7UNrbgfHG-"
      }
    },
    {
      "cell_type": "code",
      "execution_count": null,
      "metadata": {
        "id": "jTzeTn1WcUel"
      },
      "outputs": [],
      "source": [
        "in WaveNet, given a sequence of samples, it tries to predict the next sample."
      ]
    }
  ]
}